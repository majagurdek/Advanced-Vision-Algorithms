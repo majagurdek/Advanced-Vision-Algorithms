{
 "cells": [
  {
   "cell_type": "code",
   "execution_count": 1,
   "id": "b56e0421-230e-4a73-85ac-87dabd19b291",
   "metadata": {
    "tags": []
   },
   "outputs": [],
   "source": [
    "import cv2\n",
    "import numpy as np"
   ]
  },
  {
   "cell_type": "code",
   "execution_count": 2,
   "id": "98c02b63-7b06-489e-88b1-0fcdd2030514",
   "metadata": {
    "tags": []
   },
   "outputs": [],
   "source": [
    "#2.1\n",
    "for i in range(300, 1100, 5):\n",
    "    I = cv2.imread('pedestrian/input/in%06d.jpg' % i)\n",
    "    cv2.imshow(\"I\", I)\n",
    "    cv2.waitKey(10)"
   ]
  },
  {
   "cell_type": "code",
   "execution_count": 3,
   "id": "65d50690-832e-4a71-bd5c-07bce2146f5a",
   "metadata": {
    "tags": []
   },
   "outputs": [],
   "source": [
    "cv2.destroyAllWindows()"
   ]
  },
  {
   "cell_type": "code",
   "execution_count": 4,
   "id": "b5eba470-de46-40e8-86fa-03882e1fa3e2",
   "metadata": {},
   "outputs": [],
   "source": [
    "#2.2\n",
    "def detection(name = 'pedestrian'):\n",
    "    for i in range(301,1100):\n",
    "        prev = cv2.imread(f\"{name}/input/in%06d.jpg\" % int(i-1))\n",
    "        prev = cv2.cvtColor(prev, cv2.COLOR_BGR2GRAY)\n",
    "        I = cv2.imread(f\"{name}/input/in%06d.jpg\" % i)\n",
    "        I = cv2.cvtColor(I,cv2.COLOR_BGR2GRAY)\n",
    "        \n",
    "        Img = cv2.absdiff(I,prev) \n",
    "        (T, Img) = cv2.threshold(Img,10,255,cv2.THRESH_BINARY)\n",
    "        \n",
    "        #2.3\n",
    "        Img = cv2.medianBlur(Img, 3)\n",
    "        Img = cv2.morphologyEx(Img, cv2.MORPH_CLOSE, np.ones((5, 5)))\n",
    "        \n",
    "        #2.4\n",
    "        retval, labels, stats, centroids = cv2.connectedComponentsWithStats(Img)\n",
    "        I_VIS = cv2.imread(f\"{name}/input/in%06d.jpg\" % i) #copy of the input image\n",
    "        if (stats.shape[0] > 1): # are there any objects\n",
    "            tab = stats[1:,4] # 4 columns without first element\n",
    "            pi = np.argmax( tab )# finding the index of the largest item\n",
    "            pi = pi + 1 # increment because we want the index in stats, not in tab\n",
    "            \n",
    "            cv2.rectangle(I_VIS,(stats[pi,0],stats[pi,1]),(stats[pi,0]+stats[pi,2],stats[pi,1]+stats[pi,3]),(255,0,0),2)\n",
    "            cv2.putText(I_VIS,\"%f\" % stats[pi,4],(stats[pi,0],stats[pi,1]),cv2.FONT_HERSHEY_SIMPLEX,0.5,(255,0,0))\n",
    "            cv2.putText(I_VIS,\"%d\" %pi,(int(centroids[pi,0]),int(centroids[pi,1])),cv2.FONT_HERSHEY_SIMPLEX,1,(255,0,0))\n",
    "\n",
    "            \n",
    "        cv2.imshow(\"Result\",I_VIS)\n",
    "        cv2.waitKey(10)\n",
    "        \n",
    "        \n",
    "        \n",
    "    cv2.destroyAllWindows()\n",
    "    return Img"
   ]
  },
  {
   "cell_type": "code",
   "execution_count": null,
   "id": "565898aa-1827-4ac1-9c94-a79c2bd06cdf",
   "metadata": {
    "tags": []
   },
   "outputs": [],
   "source": [
    "#2.5\n",
    "with open('pedestrian/temporalROI.txt', 'r') as f:\n",
    "    roi_start, roi_end = f.readline().split() \n",
    "roi_start = int(roi_start) # conversion to int\n",
    "roi_end = int(roi_end) # conversion to int\n",
    "    \n",
    "Img = detection(\"Pedestrian\")\n",
    "    \n",
    "TP, TN, FP, FN = 0, 0, 0, 0\n",
    "for i in range(roi_start, roi_end + 1):\n",
    "    GT = cv2.imread('pedestrian/groundtruth/gt%06d.png' % i, cv2.IMREAD_GRAYSCALE)\n",
    "    TP += np.sum(np.logical_and(GT == 255, Img == 255))\n",
    "    TN += np.sum(np.logical_and(GT != 255, Img != 255))\n",
    "    FP += np.sum(np.logical_and(GT != 255, Img == 255))\n",
    "    FN += np.sum(np.logical_and(GT == 255, Img != 255))\n",
    "            \n",
    "P = TP/(TP+FP)\n",
    "R = TP/(TP+FN)\n",
    "F1 = (2*P*R)/(P+R)\n",
    "\n",
    "print(\"Pedestrian\")\n",
    "print(f\"Precision: {P}\")\n",
    "print(f\"Recall: {R}\")\n",
    "print(f\"F1: {F1}\")   "
   ]
  },
  {
   "cell_type": "code",
   "execution_count": 31,
   "id": "0ee88d32-634f-429b-a7eb-142c9756ba0a",
   "metadata": {
    "tags": []
   },
   "outputs": [
    {
     "name": "stdout",
     "output_type": "stream",
     "text": [
      "Office\n",
      "Precision: 0.47362153313034283\n",
      "Recall: 0.17206929246546035\n",
      "F1: 0.2524295494734512\n"
     ]
    }
   ],
   "source": [
    "with open('office/temporalROI.txt', 'r') as f:\n",
    "    roi_start, roi_end = f.readline().split() \n",
    "roi_start = int(roi_start) # conversion to int\n",
    "roi_end = int(roi_end) # conversion to int\n",
    "    \n",
    "Img = detection(\"office\")\n",
    "    \n",
    "TP, TN, FP, FN = 0, 0, 0, 0\n",
    "for i in range(roi_start, roi_end + 1):\n",
    "    GT = cv2.imread('office/groundtruth/gt%06d.png' % i, cv2.IMREAD_GRAYSCALE)\n",
    "    TP += np.sum(np.logical_and(GT == 255, Img == 255))\n",
    "    TN += np.sum(np.logical_and(GT != 255, Img != 255))\n",
    "    FP += np.sum(np.logical_and(GT != 255, Img == 255))\n",
    "    FN += np.sum(np.logical_and(GT == 255, Img != 255))\n",
    "            \n",
    "P = TP/(TP+FP)\n",
    "R = TP/(TP+FN)\n",
    "F1 = (2*P*R)/(P+R)\n",
    "\n",
    "print(\"Office\")\n",
    "print(f\"Precision: {P}\")\n",
    "print(f\"Recall: {R}\")\n",
    "print(f\"F1: {F1}\")   "
   ]
  },
  {
   "cell_type": "code",
   "execution_count": 32,
   "id": "8c7619d8-ece5-43e2-8496-d694198c7d87",
   "metadata": {
    "tags": []
   },
   "outputs": [
    {
     "name": "stdout",
     "output_type": "stream",
     "text": [
      "Highway\n",
      "Precision: 0.13244837149675062\n",
      "Recall: 0.275305245210278\n",
      "F1: 0.1788517864640507\n"
     ]
    }
   ],
   "source": [
    "with open('highway/temporalROI.txt', 'r') as f:\n",
    "    roi_start, roi_end = f.readline().split() \n",
    "roi_start = int(roi_start) # conversion to int\n",
    "roi_end = int(roi_end) # conversion to int\n",
    "    \n",
    "Img = detection(\"highway\")\n",
    "    \n",
    "TP, TN, FP, FN = 0, 0, 0, 0\n",
    "for i in range(roi_start, roi_end + 1):\n",
    "    GT = cv2.imread('highway/groundtruth/gt%06d.png' % i, cv2.IMREAD_GRAYSCALE)\n",
    "    TP += np.sum(np.logical_and(GT == 255, Img == 255))\n",
    "    TN += np.sum(np.logical_and(GT != 255, Img != 255))\n",
    "    FP += np.sum(np.logical_and(GT != 255, Img == 255))\n",
    "    FN += np.sum(np.logical_and(GT == 255, Img != 255))\n",
    "            \n",
    "P = TP/(TP+FP)\n",
    "R = TP/(TP+FN)\n",
    "F1 = (2*P*R)/(P+R)\n",
    "\n",
    "print(\"Highway\")\n",
    "print(f\"Precision: {P}\")\n",
    "print(f\"Recall: {R}\")\n",
    "print(f\"F1: {F1}\")  "
   ]
  },
  {
   "cell_type": "code",
   "execution_count": null,
   "id": "272e79fe-e9d9-4981-bc99-86d64cb19ad5",
   "metadata": {},
   "outputs": [],
   "source": []
  }
 ],
 "metadata": {
  "kernelspec": {
   "display_name": "Python 3 (ipykernel)",
   "language": "python",
   "name": "python3"
  },
  "language_info": {
   "codemirror_mode": {
    "name": "ipython",
    "version": 3
   },
   "file_extension": ".py",
   "mimetype": "text/x-python",
   "name": "python",
   "nbconvert_exporter": "python",
   "pygments_lexer": "ipython3",
   "version": "3.10.0"
  }
 },
 "nbformat": 4,
 "nbformat_minor": 5
}
